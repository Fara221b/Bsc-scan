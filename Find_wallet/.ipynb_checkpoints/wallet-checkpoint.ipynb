{
 "cells": [
  {
   "cell_type": "code",
   "execution_count": 1,
   "metadata": {},
   "outputs": [],
   "source": [
    "import pprint\n",
    "from bscscan import BscScan\n",
    "import asyncio\n",
    "import nest_asyncio\n",
    "import pandas as pd\n",
    "import datetime\n",
    "import numpy as np\n",
    "from datetime import timezone"
   ]
  },
  {
   "cell_type": "code",
   "execution_count": 2,
   "metadata": {},
   "outputs": [],
   "source": [
    "nest_asyncio.apply()"
   ]
  },
  {
   "cell_type": "code",
   "execution_count": 63,
   "metadata": {},
   "outputs": [],
   "source": [
    "start_timestamp = int(datetime.datetime(2021,7,3,9,30,0).replace(tzinfo=timezone.utc).timestamp())\n",
    "end_timestamp = int(datetime.datetime(2021,7,3,10,0,0).replace(tzinfo=timezone.utc).timestamp())"
   ]
  },
  {
   "cell_type": "code",
   "execution_count": 64,
   "metadata": {},
   "outputs": [],
   "source": [
    "async with BscScan('SCSKHAVMN19QAFCNSII2N6UADH89M8TAKV') as client:\n",
    "        start_block_number=int(await client.get_block_number_by_timestamp(\n",
    "            timestamp=start_timestamp,\n",
    "            closest=\"before\"\n",
    "        ))"
   ]
  },
  {
   "cell_type": "code",
   "execution_count": 65,
   "metadata": {},
   "outputs": [],
   "source": [
    "async with BscScan('SCSKHAVMN19QAFCNSII2N6UADH89M8TAKV') as client:\n",
    "        end_block_number=int(await client.get_block_number_by_timestamp(\n",
    "            timestamp=end_timestamp,\n",
    "            closest=\"before\"\n",
    "        ))"
   ]
  },
  {
   "cell_type": "code",
   "execution_count": 6,
   "metadata": {},
   "outputs": [],
   "source": [
    "# async with BscScan('SCSKHAVMN19QAFCNSII2N6UADH89M8TAKV') as client:\n",
    "#     end_block_number=int(await client.get_proxy_block_number(),16)\n"
   ]
  },
  {
   "cell_type": "code",
   "execution_count": 66,
   "metadata": {},
   "outputs": [
    {
     "data": {
      "text/plain": [
       "(8829721, 8830320)"
      ]
     },
     "execution_count": 66,
     "metadata": {},
     "output_type": "execute_result"
    }
   ],
   "source": [
    "start_block_number,end_block_number"
   ]
  },
  {
   "cell_type": "code",
   "execution_count": 7,
   "metadata": {},
   "outputs": [],
   "source": [
    "async def get_internal_txs(address,start_block_number,end_block_number,offset):\n",
    "    async with BscScan('SCSKHAVMN19QAFCNSII2N6UADH89M8TAKV') as client:\n",
    "        return await client.get_internal_txs_by_address_paginated(\\\n",
    "         address=address,page=1,offset=offset,\\\n",
    "         startblock=start_block_number,endblock=end_block_number,sort=\"asc\")"
   ]
  },
  {
   "cell_type": "code",
   "execution_count": 67,
   "metadata": {},
   "outputs": [],
   "source": [
    "Data = []\n",
    "block_number = start_block_number\n",
    "address = \"0x0000000000000000000000000000000000001004\"\n",
    "offset = 10000\n",
    "while block_number < end_block_number:\n",
    "    try:\n",
    "        data=asyncio.run(get_internal_txs(address,block_number,end_block_number,offset))\n",
    "        Data.append(data)\n",
    "        block_number = int(data[-1]['blockNumber']) +1\n",
    "    except: \n",
    "        break\n",
    "    "
   ]
  },
  {
   "cell_type": "code",
   "execution_count": 46,
   "metadata": {},
   "outputs": [
    {
     "data": {
      "text/plain": [
       "1"
      ]
     },
     "execution_count": 46,
     "metadata": {},
     "output_type": "execute_result"
    }
   ],
   "source": [
    "len(Data)"
   ]
  },
  {
   "cell_type": "code",
   "execution_count": 10,
   "metadata": {},
   "outputs": [],
   "source": [
    "from itertools import chain "
   ]
  },
  {
   "cell_type": "code",
   "execution_count": 68,
   "metadata": {},
   "outputs": [],
   "source": [
    "# df = pd.DataFrame(list(chain.from_iterable(Data)),columns=[\"timeStamp\",\"blockNumber\",\"to\",\"value\"])\n",
    "df = pd.DataFrame(list(chain.from_iterable(Data)),columns=[\"timeStamp\",\"to\",\"value\"])\n",
    "df['value'] =  df['value'].astype(float);\n",
    "df['value'] = df['value']/pow(10,18)"
   ]
  },
  {
   "cell_type": "code",
   "execution_count": 69,
   "metadata": {},
   "outputs": [
    {
     "name": "stdout",
     "output_type": "stream",
     "text": [
      "<class 'pandas.core.frame.DataFrame'>\n",
      "RangeIndex: 1240 entries, 0 to 1239\n",
      "Data columns (total 3 columns):\n",
      " #   Column     Non-Null Count  Dtype  \n",
      "---  ------     --------------  -----  \n",
      " 0   timeStamp  1240 non-null   object \n",
      " 1   to         1240 non-null   object \n",
      " 2   value      1240 non-null   float64\n",
      "dtypes: float64(1), object(2)\n",
      "memory usage: 29.2+ KB\n"
     ]
    }
   ],
   "source": [
    "df.info()"
   ]
  },
  {
   "cell_type": "code",
   "execution_count": 70,
   "metadata": {},
   "outputs": [],
   "source": [
    "wallet_array = df.loc[(df['value']< 0.64)&(df['value']>0.38)]['to'].unique()"
   ]
  },
  {
   "cell_type": "code",
   "execution_count": 71,
   "metadata": {},
   "outputs": [
    {
     "data": {
      "text/plain": [
       "52"
      ]
     },
     "execution_count": 71,
     "metadata": {},
     "output_type": "execute_result"
    }
   ],
   "source": [
    "len(wallet_array)"
   ]
  },
  {
   "cell_type": "code",
   "execution_count": 72,
   "metadata": {},
   "outputs": [],
   "source": [
    "new_wallet = []\n",
    "for wallet in wallet_array:\n",
    "    data = asyncio.run(get_internal_txs(wallet,0,end_block_number,1))\n",
    "    if int(data[0]['timeStamp']) >= start_timestamp: \n",
    "        new_wallet.append(wallet)\n",
    "    "
   ]
  },
  {
   "cell_type": "code",
   "execution_count": 73,
   "metadata": {},
   "outputs": [
    {
     "data": {
      "text/plain": [
       "10"
      ]
     },
     "execution_count": 73,
     "metadata": {},
     "output_type": "execute_result"
    }
   ],
   "source": [
    "len(new_wallet)"
   ]
  },
  {
   "cell_type": "code",
   "execution_count": 74,
   "metadata": {},
   "outputs": [],
   "source": [
    "pumper = []\n",
    "pump_wallet =[]\n",
    "for wallet in new_wallet:\n",
    "    try:\n",
    "        async with BscScan('SCSKHAVMN19QAFCNSII2N6UADH89M8TAKV') as client:\n",
    "            data = await client.get_bep20_token_transfer_events_by_address(\n",
    "            address=wallet,\n",
    "            startblock=0,\n",
    "            endblock = end_block_number,\n",
    "            sort=\"asc\")\n",
    "        if int(data[0]['timeStamp']) >= start_timestamp and data[0]['tokenName'] == data[1]['tokenName'] and data[0]['tokenName']!= 'SafeMoon' and data[0]['tokenName']!= 'Baby Doge Coin' and data[0]['tokenName']!= 'PancakeSwap Token'  :\n",
    "            pumper.append([wallet,data[0]['timeStamp'],data[0]['tokenName']])\n",
    "            pump_wallet.apend(wallet)\n",
    "    except:\n",
    "        continue\n",
    "      "
   ]
  },
  {
   "cell_type": "code",
   "execution_count": 75,
   "metadata": {},
   "outputs": [
    {
     "data": {
      "text/plain": [
       "0"
      ]
     },
     "execution_count": 75,
     "metadata": {},
     "output_type": "execute_result"
    }
   ],
   "source": [
    "len(pumper)"
   ]
  },
  {
   "cell_type": "code",
   "execution_count": 55,
   "metadata": {},
   "outputs": [
    {
     "data": {
      "text/plain": [
       "[['0x88e61199d8736f52f7042bb2b80d1cc7e6429f9e',\n",
       "  '1625303212',\n",
       "  'Binance-Peg BUSD Token']]"
      ]
     },
     "execution_count": 55,
     "metadata": {},
     "output_type": "execute_result"
    }
   ],
   "source": [
    "pumper"
   ]
  },
  {
   "cell_type": "code",
   "execution_count": 76,
   "metadata": {},
   "outputs": [],
   "source": [
    "new_wallet_bep20_transfer = []\n",
    "suspect = list(set(new_wallet) - set(pump_wallet))\n",
    "for wallet in suspect:\n",
    "    try:\n",
    "        async with BscScan('SCSKHAVMN19QAFCNSII2N6UADH89M8TAKV') as client:\n",
    "            data = await client.get_bep20_token_transfer_events_by_address(\n",
    "            address=wallet,\n",
    "            startblock=0,\n",
    "            endblock = end_block_number,\n",
    "            sort=\"asc\")\n",
    "            if int(data[0]['timeStamp']) >= start_timestamp and data[0]['tokenName']!= 'SafeMoon' and data[0]['tokenName']!= 'Baby Doge Coin' and data[0]['tokenName']!= 'PancakeSwap Token'  :\n",
    "                new_wallet_bep20_transfer.append([wallet,data[0]['timeStamp'],data[0]['tokenName']])\n",
    "\n",
    "    except:\n",
    "        continue"
   ]
  },
  {
   "cell_type": "code",
   "execution_count": 77,
   "metadata": {},
   "outputs": [
    {
     "data": {
      "text/plain": [
       "2"
      ]
     },
     "execution_count": 77,
     "metadata": {},
     "output_type": "execute_result"
    }
   ],
   "source": [
    "len(new_wallet_bep20_transfer)"
   ]
  },
  {
   "cell_type": "code",
   "execution_count": 78,
   "metadata": {},
   "outputs": [
    {
     "data": {
      "text/plain": [
       "[['0x724da59cfd638ae1ec2a6d33fdb8af2b908816d4', '1625306152', 'IceCoin'],\n",
       " ['0x3d187b39b329bddd67f454f926f70756ad9881c8', '1625305600', 'Herpes']]"
      ]
     },
     "execution_count": 78,
     "metadata": {},
     "output_type": "execute_result"
    }
   ],
   "source": [
    "new_wallet_bep20_transfer"
   ]
  },
  {
   "cell_type": "code",
   "execution_count": 66,
   "metadata": {},
   "outputs": [],
   "source": [
    "async with BscScan('SCSKHAVMN19QAFCNSII2N6UADH89M8TAKV') as client:\n",
    "    data=await client.get_internal_txs_by_address_paginated(\n",
    "            address=\"0x0000000000000000000000000000000000001004\",\n",
    "            startblock=8737719,\n",
    "            endblock=8738919,\n",
    "            page = 0,\n",
    "            offset = 10000,\n",
    "            sort=\"asc\"\n",
    "        )"
   ]
  },
  {
   "cell_type": "code",
   "execution_count": 26,
   "metadata": {},
   "outputs": [
    {
     "data": {
      "text/plain": [
       "'2021-06-30 04:20:02'"
      ]
     },
     "execution_count": 26,
     "metadata": {},
     "output_type": "execute_result"
    }
   ],
   "source": [
    "ts=1625026802\n",
    "datetime.datetime.utcfromtimestamp(ts).strftime('%Y-%m-%d %H:%M:%S')"
   ]
  },
  {
   "cell_type": "code",
   "execution_count": 27,
   "metadata": {},
   "outputs": [
    {
     "name": "stdout",
     "output_type": "stream",
     "text": [
      "0x1\n"
     ]
    }
   ],
   "source": [
    "async with BscScan('SCSKHAVMN19QAFCNSII2N6UADH89M8TAKV') as client:\n",
    "    print(\n",
    "        await client.get_proxy_transaction_count(\n",
    "            address=\"0x90af9eae299ace375ba97b89691c828e856efad6\"\n",
    "        )\n",
    "    )"
   ]
  },
  {
   "cell_type": "code",
   "execution_count": 19,
   "metadata": {},
   "outputs": [
    {
     "data": {
      "text/plain": [
       "['0x17ceca8a960e6b4a536e0d7065dbf96644d0be27',\n",
       " '0x6563a2dc1806025ed8a960d07aa3cc222a17f34a',\n",
       " '0xb9b3b6aaac936ec33d58d978e299cfa979433d8b',\n",
       " '0x4073b81d911d11d24fed299d9f29aa8ea36ed05e',\n",
       " '0xd8a005d4cefdcaa180c76082fe85cbfbeea896f8',\n",
       " '0x5da93a81dfc258c4cad921f9f11232031fe7028d',\n",
       " '0x4f0a21d2bed016d414e78606b2357bc68f7993f8',\n",
       " '0x73b3bd3350717b74ba030c9b87ec559cc653622e',\n",
       " '0x2061e39eedf14d052e4f6586e63261f065fbaed0',\n",
       " '0xe5c02a1432ae33ae6236dc32f9d704a13d138fb8',\n",
       " '0x71814bab7db002cfcc803a864fec4008a59b74b5',\n",
       " '0x63359d9cbbae376a05ed68edaaaa5f11499d8212',\n",
       " '0x89f7ba74bc9264a3a861469f0f96d235fa26efa4',\n",
       " '0x8d46ddba4500fbb6afdb2e1ef5e493b228a17968',\n",
       " '0x3bd6542406f270dd2d0c583f3000f8b46a20da73',\n",
       " '0xf893d6031466e68b369f1aef90d9205a4fc0adbe',\n",
       " '0x0ec4d71fb521b3c4d3b9eb930c1662c705ed3f17',\n",
       " '0xd7d14bbff3f3f3742a1c7f10a82195d6f9ae0402',\n",
       " '0xcd767ca0ad22135f9f639e3a0bd285484c1f4c01',\n",
       " '0x0eabbce98cea349b7fc807b68fcc8107797d6793',\n",
       " '0xede6badccdceec81bcc08ae43b47f44545c69a79',\n",
       " '0xd5a04cf37209403a90689160e24ab5ca90e3b688',\n",
       " '0xdc6c03988849e768d114d83d601b39a294e1f729',\n",
       " '0xd04105b811d6a70a59adf905147cd34c5f6dee4c',\n",
       " '0x0025611fff5c8d54488c6894acfbd0c3a95f59b3',\n",
       " '0x6a83d150a424a57e19c75486ad6f97b23a6df972',\n",
       " '0x2ed9eb4b39fffdc893fc1237effe808de40c0d2f',\n",
       " '0x7ae8f3772932f7ccdda355f2f7a61885adb2262e',\n",
       " '0xadc5d1952dccd945bd401bc94ed56aff23de5aaf',\n",
       " '0xe84048db9fc6d00c128eb2899877391c09b23eda',\n",
       " '0x7747c71f349727ebceb69fd1a25cda8ef7d2d385',\n",
       " '0xe250399a8abed64da6b26d3a40acdd28d9249495',\n",
       " '0x7cf6e0ba4777b91aec85a89170b1b46f15658473',\n",
       " '0xebfb81ee187e028a9ee6f52c5d67baa1a4daa8ae',\n",
       " '0x9f2990949f2675289255d7f8add5f4e914dc89cb',\n",
       " '0x9bc20262b1fcfd7b86436b8ea01b189f419409dc',\n",
       " '0x5b4d83e3fddc30b23c6cbc5a122f03a718061374',\n",
       " '0x3a0210dc30352fdede2935a583542a42b909f610',\n",
       " '0xc743702aad3fcbfa6c219539ab6dd7fbb9c488cd',\n",
       " '0xe72fde5f3f76d85d902b5b814faa645c3bafea6b',\n",
       " '0xe49ec6cea28014adf12ad8d2c70e1601d9f967ac',\n",
       " '0xd324169168c6ba34fde4abaade5262edb1d732ec',\n",
       " '0xbda6ae4600bc3ea0380f414324235d21165b36ce',\n",
       " '0x6bfb5e9ff8ce0da31240b8b75148739b6e2fa1d7',\n",
       " '0xefeddeeaf58e7aa06911389bd4f7bc628d1fc7f8',\n",
       " '0x5e20856a66963a75529a72b266750124054fdade',\n",
       " '0x4ab12142c458af46b9c17a5e50dbe15fd9370b7d',\n",
       " '0x2114dadb04a0631600a15e83c4e87ea275f56d9b',\n",
       " '0x935b4049295417642fe075bed6282a813e81c069',\n",
       " '0x5da1b35e7db92d237ff4208c8a07b3190cad36fe',\n",
       " '0xf576a13be6647fc4115392245c74c8e8e21f0d34',\n",
       " '0xd5a449daf07318c2a829eb947fd3d176de0e647d',\n",
       " '0xe085810695254eafa1b0be6bc8c2f9182c950605',\n",
       " '0x56fc615fdfe788f3b83f6d51c18404ef6175b5e1',\n",
       " '0xdaf1b95ce498698b9406f1fdf14639b3647b9e02',\n",
       " '0xcc5204f843d5589803fb3fe8c047e1e127f93eff',\n",
       " '0x79065f7ee9415aec46b05c0e82d60f04bc2198a0',\n",
       " '0x5e72e91af4cdcd82aa53ec568f14058b2222dda3',\n",
       " '0x895220b0506cc450256a06823702156f9f39bd3b',\n",
       " '0x9eba8f208752e2d8885d06163289b45294939ba0',\n",
       " '0x606cc2d8566f83d1a4f070842f0d5edbc01ba88c',\n",
       " '0xb151bca77eb99fa11f5a3a6cdb0fda2b50785990',\n",
       " '0x3fcbffa9797e6448de3e6ee097e6163d1a583c1e',\n",
       " '0xe9565bf0aeb77a011fb4d87dbf7585284315cb29',\n",
       " '0x4f42b64af7a91fe800f669dad00647c49f1c9f83',\n",
       " '0xb67570ee07553bd75e59802fdea9a3cd5ef4f83f',\n",
       " '0x1a1897c7b943d65fd503c038d7152e9a3f65fad7',\n",
       " '0xcea7bf669b7264f6e45410ddff0a39a37086b6e9',\n",
       " '0xabf586913c1f9e70fd9e6d1245b8aa7edeb8cccf',\n",
       " '0x9b9e4cf5edf2f87010060ebd9ce5d31940045741',\n",
       " '0xd0837e168fe6d2bd0f833fec0df962cb565d8d5e',\n",
       " '0xd0097bb454d3673cb39f7141f9538e784551e2d8',\n",
       " '0x0d6faccf5913e0e2d7bb321b6576e8b4edad592a',\n",
       " '0x3e0a3d633089e0ace8b26a1d819baf20e5f4f0f8',\n",
       " '0x45c679d09049b7d52d6eef2b80fc27c45497fe1f',\n",
       " '0x5e7461c3dd2d861210cc6288c3ebaf19c48393fa',\n",
       " '0xab333e0171f58fcd765e784dcc48ae15da795b6e',\n",
       " '0xc7fe57e4d15e094656fbf8508a6a73266b56a3a0',\n",
       " '0x6e72bbc0416cc219f44233455a33e0288f98050c',\n",
       " '0x09f0cd85010d2ab16a1c2eaae05dd3060849f277',\n",
       " '0x986c031508a791f9ef6f4ee258041d5c5bc82027',\n",
       " '0x2405f2e2ee1ef80113ec9c88038e4bd54b2df9c7',\n",
       " '0xa6618e59128b2bd96788d84732300fb45a9a34aa',\n",
       " '0x6c3f6cea24787560ddc2a52deb102f8ddee66683',\n",
       " '0x21dd699e7b016c5535c8bdb96cd1aecbe6a765e8',\n",
       " '0xdbbeb009f8eca24610bf3090c64de6a86e835e78',\n",
       " '0xbafa2bcf35b60939c179f2ba6847be4d97b573b3',\n",
       " '0x42b366ad70ca086b3a5de938da9fd82686a6e19d',\n",
       " '0x64232faa0be3b2b88859edb75352b1b774968d8c',\n",
       " '0xd2c6acfd8bbbd1cd94870d5901be7847c1e2aaa3',\n",
       " '0x1c9c429bf23623dc92350b93970a20673bebbbd1',\n",
       " '0x979148df1820323434242c18dec09b8060b033d6',\n",
       " '0x75012813b7f1a7d416b47dc7f0ce07770020b7ff',\n",
       " '0xbc569a9fe8d700c106f3c70b15dc92f2efd9b15a',\n",
       " '0x259b1775a236d924edd48121fc3486643f4e88a4',\n",
       " '0xcd89132fbcf58d82be68bf73c5812307a84fa8bc',\n",
       " '0xe9d48dffef51442c40712cbd1fbdbdecda1f1b51',\n",
       " '0xa6c775d9bffef2cd0f372e82761bf57f729a65be',\n",
       " '0x2b60bc17878c0bceb67a920fe06f43f69768e0c7',\n",
       " '0x355200111d0458f9511c659e1653fff252912427',\n",
       " '0xf60f6f5e3deb062c6f533b5295deb0e5f2ebd192',\n",
       " '0x8ee36a3fd3adb1e00ab6781e6b596e51d36131ae',\n",
       " '0x4300939582f536160095fec17b6f2bda9e7470c9',\n",
       " '0x0a40e3af4d9e0528a26a3a0b2f954ab8fedeae03',\n",
       " '0x98162d89fc41e3cced328eeea8c035d7fdd17986',\n",
       " '0x827f20e777e79d29c26017ab3608a0b734aaf1c6',\n",
       " '0xb073aec5efb3eeb0a88d67be22489d79f422ec7c',\n",
       " '0x84ffdc8e7710400b5ca0287e5a105faefee07eff',\n",
       " '0x67bf2dd29f1e7435fb451d53773ef0706e8f74ab',\n",
       " '0x5820b3f4a9aaf670b1e25198814b7fc9da559d18',\n",
       " '0x620ef507bb2f29b6450af530e23f39b5c423c204',\n",
       " '0x0a36aa1e1aff6b7b8761e3743dd5d84f6bcf779f',\n",
       " '0x2c7e370cd984fc0adeba24f34f2b326b4d3b0199',\n",
       " '0xfcf9a27f3d0716c8f6697cd7a898f1f4c12d4ff9',\n",
       " '0xb5b12852153f5a39e25f1755c94eb15e359f4941',\n",
       " '0x0253084d45d106da7bc4a8c4e47136ce2911453e',\n",
       " '0xd4264345e242728aaa9d949ca4cc5878b3e0f2aa',\n",
       " '0x11e426f833638bd28d29d9ec9fcc74df1f2e98bb',\n",
       " '0xcde0ecaf44ded386700bbfaa07e2cbb1cdf9cac8',\n",
       " '0x15b882baf541eea74414491333696c284266a353',\n",
       " '0x9839db21db95844cc1819439598f512e42a2ae70',\n",
       " '0x4aba6138fc3e18292e8e454e37d2099b2c61f577',\n",
       " '0xf6194cae050e52be01025c17f537f3a10fa01f5c',\n",
       " '0x855ffd206cd6eb78c6ba8e8a8f2f544ab0bf749d',\n",
       " '0x576edf2f63fca0c7392d4a58dd416bd3ddb59ee1',\n",
       " '0x81e1a3dcd300a4b974851f5e056fa1a70fbccd32',\n",
       " '0xd4212bb1b195cb1602e4ce510aadad2e3d2efafb',\n",
       " '0x0491b07d921fd06e88f7e690a50542c2b24514b9',\n",
       " '0x47f8005fe5d32aa49b97a20c084976dd3ff728b4',\n",
       " '0x8d7adc1234dd1055c123bc47bdb3ff6243807a7b',\n",
       " '0x188fda043649c27bf07141587d146cef37658d9b',\n",
       " '0xe73a80483c74844797694cc203bfb79d69fd8c3e',\n",
       " '0xf741b81124d5d291ade3c2268247582cc0bd7eba',\n",
       " '0x0b726d99aaf59f0a8f4e26f584c80b5870fcd97e',\n",
       " '0xa4eecc732d3977e17392e8bfad08bd3d9e64a965',\n",
       " '0x3babb89225ddd8ebcef97c1ce775d1bb5efdc523',\n",
       " '0xa3f811a2ef74373e1364eb8ad393fc9779f4c79f',\n",
       " '0xb04d02a521cf56b9e0eee1f111d4d684fc23ff44',\n",
       " '0xb2d8a475c9203eac75edfab598eb926a5bb7f5b8',\n",
       " '0x37faa41401d32364d4bf9545dadde9974330c5c8',\n",
       " '0x33d274a30ab9d9e16248ed8f62eb6dce3b767ec8',\n",
       " '0xbeb50d21ec67e7c6b3ac7df953e7c696981fafbd',\n",
       " '0x24ed80f530f91c90656d05411be96261f322b7f3',\n",
       " '0x78f99bb1283ce8aac431a8fd127e83f9edc5a60f',\n",
       " '0xfb417d49fc8957ec2fee26b0cc3aa0bdb7db44ec',\n",
       " '0x45e91df7d96fc2a5e4bd15b85b74e46abcac8bb4',\n",
       " '0x94561d6da07bf350cd4d3cce3677a1c4e7e69067',\n",
       " '0x5bc2d420722d5848d07ded5e54e192241239e04a',\n",
       " '0x05be6cc9a41b2376ee3e8804066046e5ebdd9e9d',\n",
       " '0xa5e77ffaa7742ba7cb7bfe96a1c03e0b72b403fe',\n",
       " '0xdb7bac1f542f3b361ce5cc12fbab155766ebd81e',\n",
       " '0xc8f1351927ec1fd3c24c825a768bacaeeef84d1f',\n",
       " '0x9f1733d34af5c45d45c63640ec040eb2d1914a1e',\n",
       " '0x7e3df5c1cb520a125567a1e177a77b827b651118',\n",
       " '0x22a5a047d3cc8ca5bc485ddfe5a9dd2f40ae1e83',\n",
       " '0x98ab28304425e424ebf7d35c8903216f16f04a91',\n",
       " '0x230ad716e4c5278658a65f4201f6330b8949d753',\n",
       " '0x7d854af709abdf6404c868cb1a8bbaa72412f8a6',\n",
       " '0x29f2ff2b035347678efebdc87656ec8de41dfe35',\n",
       " '0xeee78687ee27ac7ecd41137fd9914b25cecc08f5',\n",
       " '0x5e60c9e2570c34402c336eee9c5c649987e6efb3',\n",
       " '0x6016df52ea48515981ef2d8612972bd0ef6b3e27',\n",
       " '0x879f49e80f9e728379389b9753df139960bdbf45',\n",
       " '0xded0a3e5e9178bab90f0533884ca308f3af67c5c',\n",
       " '0xdcff47c40fef79fe55a28ffcb2d2ea867c96c293',\n",
       " '0xed7fbd9e808329740e97e28a2e6c11ab83953242',\n",
       " '0x8b0f59d01b891a60095a4b98c5cd457414016f8f',\n",
       " '0x882acdc997f90a13de77db15ce913155132f97e7',\n",
       " '0xbd13f2451405d6343499f38dd1206079d1e0d692',\n",
       " '0x31581b2888e9952e993e52a7d23dda3c39efa880',\n",
       " '0x82643b78308eda3d52e2185f8b6117f30ca676c9',\n",
       " '0xe56a4a85f9b48c0937164ee2d676d1535aaef353',\n",
       " '0xd18b2fa109e7ef0c446f11c37105342b78f73e32',\n",
       " '0xf13bb133da8d39b7fb09b5c9d6a43f9a137c0ff3',\n",
       " '0x8fec7be563eb84f5dd01a6ad9b819874a710b3e7',\n",
       " '0x6742b3dff725c63c6b659f68eb8496f0695f9f18',\n",
       " '0xb011ad8bc917a44cf2a72ade1e200a7b6487e2a3',\n",
       " '0x2714b6eb10c2a2678dd3f814420534835aa0e570',\n",
       " '0x92139b242904b3e572ae89f3e994df1651f6ed9c',\n",
       " '0x6540d2bbc34908fa083948bd9f2df3fa36a9529b',\n",
       " '0xc00efb808d61fb831ec81d1fec685b1776c7eaac',\n",
       " '0xfffa4494c8555ccb68ca72459154e06f9c2f3d00',\n",
       " '0xe939dd83c286c877ddc41da34ba916f1bd899ce0',\n",
       " '0xa80f4e8834ee856f14b2b61908f83c62cb00f66c',\n",
       " '0x84391ed3572b30c89349957387a38422d2aab9f7',\n",
       " '0xaa7469ef9ab544921b2bf8f35bfa9537f717ed08',\n",
       " '0x3c85dc0932cc22ad340c749d14a70216a9e1aaf6',\n",
       " '0xbe342f31ca54eb1346e0227f1f677a3d89fe13d9',\n",
       " '0xc6a8ced0f413013020deefed18194e14fb3861cc',\n",
       " '0xbb9508f5b623372579df1de860f57a6beab8eec0',\n",
       " '0xd00eecf1a6edceb8ff71a5474e086d26b95741d6',\n",
       " '0x95ae08962b4e76662d28a008f5ac9bc485f439ef',\n",
       " '0x8c7b22bbf226c2fc860cb6c3a2f56e5bae0ca663',\n",
       " '0xdc1b69dc192fc82d39fbb8505562c2f0c7da8c1e',\n",
       " '0xe19d6a66df241e2ca1aa82789c6cff54e6b52470',\n",
       " '0xe4f7887ee595d0af4707d05fd105db51b4b92803',\n",
       " '0x40bddda1086ad0acec1f97773163d7ace0042d20',\n",
       " '0xdee4a19a73c39530cdbc012df198e8c9b1d35e4e',\n",
       " '0x1147a1a6249cfe681b5984e9db976f3dbf665d06',\n",
       " '0x571b2e2768c844e3b0f967b168e01984669d575b',\n",
       " '0xe5875eaaec7bff45c79dbedb41fbf9cf44556826',\n",
       " '0x56d945a42b514214d38da0562d3fc683c85be9ff',\n",
       " '0x841a936a1ee5c302facaab5526e61903a351928a',\n",
       " '0x7e398f6d33454a66ce83d49c511ea335bc9e1747',\n",
       " '0xb558094df094505a0dc9dbf82c3b58eac976ccf6',\n",
       " '0xd25d5203c7133dfb6369ae574b787e20e1af7931',\n",
       " '0x5d9105d15e851e69295988ded3d4adbb1b6dc164',\n",
       " '0x06e99345e92114e88aa883814011b4227a62c48e',\n",
       " '0xbe9a2e0cc9c7847861df31917930c31c464189c0',\n",
       " '0xee8247455de2e1fd4022971bc4d957980fabc978',\n",
       " '0xd10282e84ae09ee79e841fe789826662bb8fdc9b',\n",
       " '0xd24d254bd3a72456dbc2d43295d352acdcc283b8',\n",
       " '0xdd5e78143cb4ec10e0f87685726de15e25e12755',\n",
       " '0x73a43fee7889f8445b4565efaa256b3d3462b7fb',\n",
       " '0xa0b867f57883927635aed7f8de55db264b609381',\n",
       " '0x4cf30581a87be815598833aa52e69e4ba248607b',\n",
       " '0xdaa34d1ae33c98ed8fab1ae9d25a280763d47e97',\n",
       " '0x7a941606695a5c3cf566af3e773429016ed39450',\n",
       " '0x7074c416e39e76e93cd64e01e15526fe8511cca5']"
      ]
     },
     "execution_count": 19,
     "metadata": {},
     "output_type": "execute_result"
    }
   ],
   "source": [
    "new_wallet"
   ]
  },
  {
   "cell_type": "code",
   "execution_count": 60,
   "metadata": {},
   "outputs": [],
   "source": [
    "sus = []\n",
    "pump_wallet =[]\n",
    "for wallet in new_wallet:\n",
    "    try:\n",
    "        async with BscScan('SCSKHAVMN19QAFCNSII2N6UADH89M8TAKV') as client:\n",
    "            data = await client.get_bep20_token_transfer_events_by_address(\n",
    "            address=wallet,\n",
    "            startblock=0,\n",
    "            endblock = end_block_number,\n",
    "            sort=\"asc\")\n",
    "    except:\n",
    "        sus.append(wallet)\n"
   ]
  },
  {
   "cell_type": "code",
   "execution_count": 61,
   "metadata": {},
   "outputs": [
    {
     "data": {
      "text/plain": [
       "5"
      ]
     },
     "execution_count": 61,
     "metadata": {},
     "output_type": "execute_result"
    }
   ],
   "source": [
    "len(sus)"
   ]
  },
  {
   "cell_type": "code",
   "execution_count": 62,
   "metadata": {},
   "outputs": [
    {
     "data": {
      "text/plain": [
       "['0x56e385aed2b2b059cd171fa1e831e0637f357cfb',\n",
       " '0xbe72688c1e0c7e5ab0b6bac1a252e03e25898f3e',\n",
       " '0x3d187b39b329bddd67f454f926f70756ad9881c8',\n",
       " '0x724da59cfd638ae1ec2a6d33fdb8af2b908816d4',\n",
       " '0xd22849537cf2f0b2331902be000acc1d285e2330']"
      ]
     },
     "execution_count": 62,
     "metadata": {},
     "output_type": "execute_result"
    }
   ],
   "source": [
    "sus"
   ]
  },
  {
   "cell_type": "code",
   "execution_count": 59,
   "metadata": {},
   "outputs": [
    {
     "data": {
      "text/plain": [
       "['0x88e61199d8736f52f7042bb2b80d1cc7e6429f9e',\n",
       " '0x84542a9fa66d32d5131f5436207e3ab4ce639630',\n",
       " '0x3c672fbc520fa40e0b15fd52b5cb9a86fbd1d987',\n",
       " '0xbb310ec7b71f4293f20b0892a8e89eab4bf71159',\n",
       " '0x5d85fe6940fcf857f95a1c639bc9f63da75c17d2',\n",
       " '0x56e385aed2b2b059cd171fa1e831e0637f357cfb',\n",
       " '0x91ddabc12b838c803762a9f8617147450b8126c8',\n",
       " '0x3bb9b6d36fa8df08f1211548a37e976ab2a694d3',\n",
       " '0xd7c329ad34bccb4b9bf9d1060adacffa14d58d75',\n",
       " '0x953d834e044ee88e2a93f5bd31f4d40ce47bc8da',\n",
       " '0xbe72688c1e0c7e5ab0b6bac1a252e03e25898f3e',\n",
       " '0x3d187b39b329bddd67f454f926f70756ad9881c8',\n",
       " '0x3013bfc42b3375033dd53cfb1a190c7eb9b3f97d',\n",
       " '0x724da59cfd638ae1ec2a6d33fdb8af2b908816d4',\n",
       " '0x2147c9b7235e7b69b31fc4f5adb5ac595371ec2d',\n",
       " '0xd22849537cf2f0b2331902be000acc1d285e2330']"
      ]
     },
     "execution_count": 59,
     "metadata": {},
     "output_type": "execute_result"
    }
   ],
   "source": [
    "new_wallet"
   ]
  },
  {
   "cell_type": "code",
   "execution_count": null,
   "metadata": {},
   "outputs": [],
   "source": []
  }
 ],
 "metadata": {
  "kernelspec": {
   "display_name": "Python 3",
   "language": "python",
   "name": "python3"
  },
  "language_info": {
   "codemirror_mode": {
    "name": "ipython",
    "version": 3
   },
   "file_extension": ".py",
   "mimetype": "text/x-python",
   "name": "python",
   "nbconvert_exporter": "python",
   "pygments_lexer": "ipython3",
   "version": "3.8.5"
  }
 },
 "nbformat": 4,
 "nbformat_minor": 4
}
